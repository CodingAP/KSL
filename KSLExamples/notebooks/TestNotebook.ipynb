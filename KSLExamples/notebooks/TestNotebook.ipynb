{
 "cells": [
  {
   "cell_type": "code",
   "metadata": {
    "collapsed": true,
    "ExecuteTime": {
     "end_time": "2024-06-10T23:57:28.593110Z",
     "start_time": "2024-06-10T23:57:27.795117Z"
    }
   },
   "source": [
    "import ksl.utilities.random.rvariable.NormalRV\n",
    "import ksl.utilities.statistic.CachedHistogram\n",
    "import ksl.utilities.statistic.Histogram\n",
    "\n",
    "val n = NormalRV()\n",
    "val h = CachedHistogram(n.sample(1000))\n",
    "val hp = h.histogramPlot()\n",
    "val p = hp.buildPlot()"
   ],
   "outputs": [
    {
     "name": "stdout",
     "output_type": "stream",
     "text": [
      "18:57:27,959 |-INFO in ch.qos.logback.classic.LoggerContext[default] - This is logback-classic version 1.5.3\n",
      "18:57:27,960 |-INFO in ch.qos.logback.classic.util.ContextInitializer@51ba238 - No custom configurators were discovered as a service.\n",
      "18:57:27,960 |-INFO in ch.qos.logback.classic.util.ContextInitializer@51ba238 - Trying to configure with ch.qos.logback.classic.joran.SerializedModelConfigurator\n",
      "18:57:27,961 |-INFO in ch.qos.logback.classic.util.ContextInitializer@51ba238 - Constructed configurator of type class ch.qos.logback.classic.joran.SerializedModelConfigurator\n",
      "18:57:27,961 |-INFO in ch.qos.logback.classic.LoggerContext[default] - Could NOT find resource [logback-test.scmo]\n",
      "18:57:27,961 |-INFO in ch.qos.logback.classic.LoggerContext[default] - Could NOT find resource [logback.scmo]\n",
      "18:57:27,962 |-INFO in ch.qos.logback.classic.util.ContextInitializer@51ba238 - ch.qos.logback.classic.joran.SerializedModelConfigurator.configure() call lasted 1 milliseconds. ExecutionStatus=INVOKE_NEXT_IF_ANY\n",
      "18:57:27,962 |-INFO in ch.qos.logback.classic.util.ContextInitializer@51ba238 - Trying to configure with ch.qos.logback.classic.util.DefaultJoranConfigurator\n",
      "18:57:27,962 |-INFO in ch.qos.logback.classic.util.ContextInitializer@51ba238 - Constructed configurator of type class ch.qos.logback.classic.util.DefaultJoranConfigurator\n",
      "18:57:27,963 |-INFO in ch.qos.logback.classic.LoggerContext[default] - Could NOT find resource [logback-test.xml]\n",
      "18:57:27,963 |-INFO in ch.qos.logback.classic.LoggerContext[default] - Found resource [logback.xml] at [jar:file:/Users/rossetti/Library/Caches/JetBrains/IntelliJIdea2024.1/kotlinNotebook/kslexamples.3d87c465/kernels/0.12.0-226/kotlin-jupyter-kernel-shadowed-jar/kotlin-jupyter-kernel-shadowed-0.12.0-226.jar!/logback.xml]\n",
      "18:57:27,964 |-WARN in ch.qos.logback.classic.util.DefaultJoranConfigurator@3eb57a1c - Resource [logback.xml] occurs multiple times on the classpath.\n",
      "18:57:27,964 |-WARN in ch.qos.logback.classic.util.DefaultJoranConfigurator@3eb57a1c - Resource [logback.xml] occurs at [file:/Users/rossetti/Documents/GitHub/KSL/KSLCore/build/resources/main/logback.xml]\n",
      "18:57:27,964 |-WARN in ch.qos.logback.classic.util.DefaultJoranConfigurator@3eb57a1c - Resource [logback.xml] occurs at [jar:file:/Users/rossetti/Library/Caches/JetBrains/IntelliJIdea2024.1/kotlinNotebook/kslexamples.3d87c465/kernels/0.12.0-226/kotlin-jupyter-kernel-shadowed-jar/kotlin-jupyter-kernel-shadowed-0.12.0-226.jar!/logback.xml]\n",
      "18:57:27,964 |-WARN in ch.qos.logback.classic.util.DefaultJoranConfigurator@3eb57a1c - Resource [logback.xml] occurs at [file:/Users/rossetti/Documents/GitHub/KSL/KSLExamples/build/resources/main/logback.xml]\n",
      "18:57:27,971 |-INFO in ch.qos.logback.core.joran.spi.ConfigurationWatchList@e0c630a - URL [jar:file:/Users/rossetti/Library/Caches/JetBrains/IntelliJIdea2024.1/kotlinNotebook/kslexamples.3d87c465/kernels/0.12.0-226/kotlin-jupyter-kernel-shadowed-jar/kotlin-jupyter-kernel-shadowed-0.12.0-226.jar!/logback.xml] is not of type file\n",
      "18:57:28,024 |-INFO in ch.qos.logback.core.model.processor.AppenderModelHandler - Processing appender named [STDERR]\n",
      "18:57:28,024 |-INFO in ch.qos.logback.core.model.processor.AppenderModelHandler - About to instantiate appender of type [ch.qos.logback.core.ConsoleAppender]\n",
      "18:57:28,029 |-INFO in ch.qos.logback.core.model.processor.ImplicitModelHandler - Assuming default type [ch.qos.logback.classic.encoder.PatternLayoutEncoder] for [encoder] property\n",
      "18:57:28,044 |-INFO in ch.qos.logback.classic.model.processor.RootLoggerModelHandler - Setting level of ROOT logger to DEBUG\n",
      "18:57:28,045 |-INFO in ch.qos.logback.core.model.processor.AppenderRefModelHandler - Attaching appender named [STDERR] to Logger[ROOT]\n",
      "18:57:28,045 |-INFO in ch.qos.logback.classic.model.processor.LoggerModelHandler - Setting level of logger [org.apache] to ERROR\n",
      "18:57:28,045 |-INFO in ch.qos.logback.classic.model.processor.LoggerModelHandler - Setting level of logger [org.jetbrains.kotlin.org.apache] to ERROR\n",
      "18:57:28,045 |-INFO in ch.qos.logback.classic.model.processor.LoggerModelHandler - Setting level of logger [httpclient] to ERROR\n",
      "18:57:28,045 |-INFO in ch.qos.logback.classic.model.processor.LoggerModelHandler - Setting level of logger [org.jetbrains.kotlin.httpclient] to ERROR\n",
      "18:57:28,046 |-INFO in ch.qos.logback.classic.model.processor.LoggerModelHandler - Setting level of logger [org.eclipse.aether] to DEBUG\n",
      "18:57:28,046 |-INFO in ch.qos.logback.classic.model.processor.LoggerModelHandler - Setting level of logger [org.jetbrains.kotlin.org.eclipse.aether] to DEBUG\n",
      "18:57:28,046 |-INFO in ch.qos.logback.core.model.processor.DefaultProcessor@4a0dc21f - End of configuration.\n",
      "18:57:28,046 |-INFO in ch.qos.logback.classic.joran.JoranConfigurator@12dfa304 - Registering current configuration as safe fallback point\n",
      "18:57:28,046 |-INFO in ch.qos.logback.classic.util.ContextInitializer@51ba238 - ch.qos.logback.classic.util.DefaultJoranConfigurator.configure() call lasted 84 milliseconds. ExecutionStatus=DO_NOT_INVOKE_NEXT_IF_ANY\n",
      "\n"
     ]
    }
   ],
   "execution_count": 1
  },
  {
   "metadata": {
    "ExecuteTime": {
     "end_time": "2024-06-10T23:57:37.404291Z",
     "start_time": "2024-06-10T23:57:34.782613Z"
    }
   },
   "cell_type": "code",
   "source": "%use lets-plot",
   "outputs": [
    {
     "data": {
      "text/html": [
       "   <div id=\"CCt8Rm\"></div>\n",
       "   <script type=\"text/javascript\" data-lets-plot-script=\"library\">\n",
       "       if(!window.letsPlotCallQueue) {\n",
       "           window.letsPlotCallQueue = [];\n",
       "       }; \n",
       "       window.letsPlotCall = function(f) {\n",
       "           window.letsPlotCallQueue.push(f);\n",
       "       };\n",
       "       (function() {\n",
       "           var script = document.createElement(\"script\");\n",
       "           script.type = \"text/javascript\";\n",
       "           script.src = \"https://cdn.jsdelivr.net/gh/JetBrains/lets-plot@v4.3.2/js-package/distr/lets-plot.min.js\";\n",
       "           script.onload = function() {\n",
       "               window.letsPlotCall = function(f) {f();};\n",
       "               window.letsPlotCallQueue.forEach(function(f) {f();});\n",
       "               window.letsPlotCallQueue = [];\n",
       "               \n",
       "               \n",
       "           };\n",
       "           script.onerror = function(event) {\n",
       "               window.letsPlotCall = function(f) {};\n",
       "               window.letsPlotCallQueue = [];\n",
       "               var div = document.createElement(\"div\");\n",
       "               div.style.color = 'darkred';\n",
       "               div.textContent = 'Error loading Lets-Plot JS';\n",
       "               document.getElementById(\"CCt8Rm\").appendChild(div);\n",
       "           };\n",
       "           var e = document.getElementById(\"CCt8Rm\");\n",
       "           e.appendChild(script);\n",
       "       })();\n",
       "   </script>"
      ]
     },
     "metadata": {},
     "output_type": "display_data"
    }
   ],
   "execution_count": 2
  },
  {
   "metadata": {
    "ExecuteTime": {
     "end_time": "2024-06-10T23:57:41.292394Z",
     "start_time": "2024-06-10T23:57:40.877157Z"
    }
   },
   "cell_type": "code",
   "source": "p",
   "outputs": [
    {
     "data": {
      "text/html": [
       "   <div id=\"h708Dn\"></div>\n",
       "   <script type=\"text/javascript\" data-lets-plot-script=\"plot\">\n",
       "       (function() {\n",
       "           var plotSpec={\n",
       "\"ggtitle\":{\n",
       "\"text\":\"Histogram Plot\"\n",
       "},\n",
       "\"mapping\":{\n",
       "},\n",
       "\"ggsize\":{\n",
       "\"width\":500.0,\n",
       "\"height\":350.0\n",
       "},\n",
       "\"kind\":\"plot\",\n",
       "\"scales\":[{\n",
       "\"aesthetic\":\"y\",\n",
       "\"name\":\"Bin Proportions\"\n",
       "}],\n",
       "\"layers\":[{\n",
       "\"ymin\":0.0,\n",
       "\"mapping\":{\n",
       "\"xmin\":\"xmin\",\n",
       "\"xmax\":\"xmax\",\n",
       "\"ymax\":\"ymax\"\n",
       "},\n",
       "\"stat\":\"identity\",\n",
       "\"data\":{\n",
       "\"xmin\":[-4.0,-3.5,-3.0,-2.5,-2.0,-1.5,-1.0,-0.5,0.0,0.5,1.0,1.5,2.0,2.5,3.0,3.5],\n",
       "\"ymax\":[0.0,0.002,0.003,0.021,0.04,0.093,0.143,0.174,0.225,0.124,0.098,0.059,0.014,0.002,0.002,0.0],\n",
       "\"xmax\":[-3.5,-3.0,-2.5,-2.0,-1.5,-1.0,-0.5,0.0,0.5,1.0,1.5,2.0,2.5,3.0,3.5,4.0]\n",
       "},\n",
       "\"position\":\"identity\",\n",
       "\"geom\":\"rect\",\n",
       "\"tooltips\":{\n",
       "\"lines\":[\"@ymax\",\"[@xmin, @xmax]\"],\n",
       "\"formats\":[{\n",
       "\"field\":\"xmin\",\n",
       "\"format\":\".1f\"\n",
       "},{\n",
       "\"field\":\"xmax\",\n",
       "\"format\":\".1f\"\n",
       "}]\n",
       "}\n",
       "}]\n",
       "};\n",
       "           var plotContainer = document.getElementById(\"h708Dn\");\n",
       "           window.letsPlotCall(function() {{\n",
       "               LetsPlot.buildPlotFromProcessedSpecs(plotSpec, -1, -1, plotContainer);\n",
       "           }});\n",
       "       })();\n",
       "   </script>"
      ]
     },
     "execution_count": 3,
     "metadata": {},
     "output_type": "execute_result"
    }
   ],
   "execution_count": 3
  }
 ],
 "metadata": {
  "kernelspec": {
   "display_name": "Kotlin",
   "language": "kotlin",
   "name": "kotlin"
  },
  "language_info": {
   "name": "kotlin",
   "version": "1.9.23",
   "mimetype": "text/x-kotlin",
   "file_extension": ".kt",
   "pygments_lexer": "kotlin",
   "codemirror_mode": "text/x-kotlin",
   "nbconvert_exporter": ""
  },
  "ktnbPluginMetadata": {
   "projectDependencies": [
    "KSLExamples.KSLCore.main",
    "KSLExamples.KSLCore.test",
    "KSLExamples.main",
    "KSLExamples.test"
   ]
  }
 },
 "nbformat": 4,
 "nbformat_minor": 0
}
